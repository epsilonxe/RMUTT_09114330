{
 "cells": [
  {
   "cell_type": "markdown",
   "id": "e4eb26b9",
   "metadata": {},
   "source": [
    "# Workshop 05\n",
    "## Approximating eigenvalues \n",
    "\n",
    "------------\n"
   ]
  },
  {
   "cell_type": "markdown",
   "id": "e33294a3",
   "metadata": {},
   "source": [
    "### 1. Find eigenvalues and eigenvectors of the following matrices\n"
   ]
  },
  {
   "cell_type": "markdown",
   "id": "28b53b6f-ea25-4988-85c6-2dfd6e694d3a",
   "metadata": {},
   "source": [
    "#### 1.1.\n",
    "\n",
    "$$\\begin{bmatrix} \n",
    "2 & 1 \\\\\n",
    "1 & 2 \n",
    "\\end{bmatrix}$$\n"
   ]
  },
  {
   "cell_type": "code",
   "execution_count": null,
   "id": "dcd30e2e",
   "metadata": {},
   "outputs": [],
   "source": [
    "\n",
    "\n",
    "\n"
   ]
  },
  {
   "cell_type": "markdown",
   "id": "4a8b6cd1-683d-4e87-a474-3800a6d884aa",
   "metadata": {},
   "source": [
    "#### 1.2.\n",
    "\n",
    "$$\\begin{bmatrix} \n",
    "2 & 1 & 1 \\\\\n",
    "0 & 1 & -1 \\\\\n",
    "4 & 2 & 2 \\\\\n",
    "\\end{bmatrix}$$\n"
   ]
  },
  {
   "cell_type": "code",
   "execution_count": null,
   "id": "3f6f935c-25ac-454b-87f7-5e3f2b51de6a",
   "metadata": {},
   "outputs": [],
   "source": [
    "\n",
    "\n",
    "\n"
   ]
  },
  {
   "cell_type": "markdown",
   "id": "0d846e65-507f-4313-a5a8-e62781371b93",
   "metadata": {},
   "source": [
    "#### 1.3.\n",
    "\n",
    "$$\\begin{bmatrix} \n",
    "\\alpha & \\beta \\\\\n",
    "\\beta & \\alpha \n",
    "\\end{bmatrix}$$\n",
    "\n",
    "where $\\alpha, \\beta \\geq 0$.\n"
   ]
  },
  {
   "cell_type": "code",
   "execution_count": null,
   "id": "c3d947c3-88bc-44e2-bb83-fe011abfe20d",
   "metadata": {},
   "outputs": [],
   "source": [
    "\n",
    "\n",
    "\n"
   ]
  },
  {
   "cell_type": "markdown",
   "id": "b1038284-2a9c-4cf0-a1ae-036d384b3b2f",
   "metadata": {},
   "source": [
    "#### 1.4.\n",
    "\n",
    "$$\\begin{bmatrix} \n",
    "\\alpha & \\beta & \\beta \\\\\n",
    "0 & \\beta & -\\beta \\\\\n",
    "2\\alpha & \\alpha & \\alpha \\\\\n",
    "\\end{bmatrix}$$\n",
    "\n",
    "where $\\alpha, \\beta \\geq 0$.\n"
   ]
  },
  {
   "cell_type": "code",
   "execution_count": null,
   "id": "6959f5a6-8c43-47e3-99d0-f8b6fac812a3",
   "metadata": {},
   "outputs": [],
   "source": [
    "\n",
    "\n",
    "\n"
   ]
  },
  {
   "cell_type": "markdown",
   "id": "7b3d20f4",
   "metadata": {},
   "source": [
    "-----------------\n",
    "\n",
    "### 2. Evaluate the Jacobian's matrix of the following systems at the steady states, and then approximate the range of its eigenvalues.\n",
    "\n"
   ]
  },
  {
   "cell_type": "markdown",
   "id": "56776adf-e371-4ae8-970b-17d73c54f26e",
   "metadata": {},
   "source": [
    "#### 2.1.\n",
    "\n",
    "$$\\begin{align} \n",
    "x^{\\prime} &= \\alpha x - \\beta xy, \\\\\n",
    "y^{\\prime} &=  -\\gamma y + \\delta xy,\n",
    "\\end{align}$$\n",
    "where all parameters are non-negative and initial conditions are $x(0) = x_0 \\in \\mathbb{R}$ and $y(0) = y_0 \\in \\mathbb{R}$."
   ]
  },
  {
   "cell_type": "code",
   "execution_count": null,
   "id": "6248faf1",
   "metadata": {},
   "outputs": [],
   "source": [
    "\n",
    "\n",
    "\n"
   ]
  },
  {
   "cell_type": "markdown",
   "id": "e279ec12",
   "metadata": {},
   "source": [
    "#### 2.2.\n",
    "$$\\begin{align} \n",
    "S^{\\prime} &= -\\beta SI + \\delta R, \\\\\n",
    "I^{\\prime} &=  \\beta SI - \\gamma I, \\\\\n",
    "R^{\\prime} &=  \\gamma I - \\delta R\n",
    "\\end{align}$$\n",
    "where all parameters are non-negative and initial conditions are $S(0) = S_0 \\in \\mathbb{R}, I(0) = I_0 \\in \\mathbb{R} $ and $R(0) = R_0 \\in \\mathbb{R}$."
   ]
  },
  {
   "cell_type": "code",
   "execution_count": null,
   "id": "14e33c30",
   "metadata": {},
   "outputs": [],
   "source": [
    "\n",
    "\n",
    "\n"
   ]
  },
  {
   "cell_type": "markdown",
   "id": "9218898a",
   "metadata": {},
   "source": [
    "\n",
    "#### 2.3. \n",
    "\n",
    "$$\\begin{align} \n",
    "x^{\\prime} &= \\delta(y-x), \\\\\n",
    "y^{\\prime} &=  x(\\rho-z)-y, \\\\\n",
    "z^{\\prime} &= xy - \\beta z\n",
    "\\end{align}$$\n",
    "where all parameters are non-negative and initial conditions are $x(0) = x_0 \\in \\mathbb{R}, y(0) = y_0 \\in \\mathbb{R} $ and $z(0) = z_0 \\in \\mathbb{R}$."
   ]
  },
  {
   "cell_type": "code",
   "execution_count": null,
   "id": "42ce7337",
   "metadata": {},
   "outputs": [],
   "source": [
    " \n",
    "\n",
    "    \n",
    "    "
   ]
  },
  {
   "cell_type": "markdown",
   "id": "16060fa1",
   "metadata": {},
   "source": [
    "--------------"
   ]
  },
  {
   "cell_type": "markdown",
   "id": "5e1e6c6a",
   "metadata": {},
   "source": [
    "-------------------------\n",
    "\n",
    "<font size=2>\n",
    "\n",
    "#### Update list\n",
    "\n",
    "| Date      | Commit Message      |      by      |\n",
    "|:----------|:--------------------|-------------:|\n",
    "| 2023/12/24| Initial created     | R. Promkam   |\n",
    "\n",
    "</font>\n",
    "\n",
    "-------------------------\n",
    "<p style=\"text-align: center;\"><font size=1>All rights reserved. This document, figures and data are published under MIT License.</font></p>"
   ]
  }
 ],
 "metadata": {
  "kernelspec": {
   "display_name": "Python 3 (ipykernel)",
   "language": "python",
   "name": "python3"
  },
  "language_info": {
   "codemirror_mode": {
    "name": "ipython",
    "version": 3
   },
   "file_extension": ".py",
   "mimetype": "text/x-python",
   "name": "python",
   "nbconvert_exporter": "python",
   "pygments_lexer": "ipython3",
   "version": "3.10.6"
  }
 },
 "nbformat": 4,
 "nbformat_minor": 5
}
