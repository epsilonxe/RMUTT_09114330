{
 "cells": [
  {
   "cell_type": "markdown",
   "id": "fb40a6bd-e482-4ee9-8072-822ac78f7cf1",
   "metadata": {},
   "source": [
    "# Workshop: Higher-Order Taylor's Method\n",
    "\n",
    "## Overview\n",
    "\n",
    "**Duration:** 2 hours  \n",
    "**Objectives:**\n",
    "- Reinforce understanding of **Higher-Order Taylor’s Method** and its derivation from **Taylor series**.\n",
    "- Practice implementing **Higher-Order Taylor’s Method** on different ODE examples.\n",
    "- Compare numerical solutions with **exact solutions** to assess accuracy and error behavior."
   ]
  },
  {
   "cell_type": "markdown",
   "id": "a6ac0778-69ed-4ddd-ae30-5e4e5e5b5f36",
   "metadata": {},
   "source": [
    "---\n",
    "\n",
    "## Problem 1: \n",
    "\n",
    "### Apply Higher-Order Taylor’s Method with step size $h=0.2$ to the ODE $$ \\dot{x} = x-t^2+1, \\qquad x(0)=0.5$$\n",
    "\n",
    "### a) Use Taylor’s method of order two to approximate the solution."
   ]
  },
  {
   "cell_type": "code",
   "execution_count": null,
   "id": "180c3d05-fc3d-44d1-91c0-fd5f79f54bee",
   "metadata": {},
   "outputs": [],
   "source": [
    "\n",
    "\n",
    "\n"
   ]
  },
  {
   "cell_type": "markdown",
   "id": "5b5d3782-d84b-4079-bc66-fba5ab4bfa53",
   "metadata": {},
   "source": [
    "### b) Use Taylor’s method of order four to approximate the solution."
   ]
  },
  {
   "cell_type": "code",
   "execution_count": null,
   "id": "23d7aa05-68fd-450a-b107-8e6b4cc8359c",
   "metadata": {},
   "outputs": [],
   "source": [
    "\n",
    "\n",
    "\n"
   ]
  },
  {
   "cell_type": "markdown",
   "id": "c4d354d7-6e2e-426d-b4fb-b29d42547b66",
   "metadata": {},
   "source": [
    "### Compare numerical results with the exact solution $ x(t) = 2.5e^t - (t^2+2t+2)$."
   ]
  },
  {
   "cell_type": "code",
   "execution_count": null,
   "id": "b1684c37-988a-4dcd-9670-da2ae70b30ec",
   "metadata": {},
   "outputs": [],
   "source": [
    "\n",
    "\n",
    "\n"
   ]
  },
  {
   "cell_type": "markdown",
   "id": "419ddf55-0712-453f-be6b-4a98d5f170f0",
   "metadata": {},
   "source": [
    "---\n",
    "\n",
    "## Problem 2: Logistic Growth  \n",
    "\n",
    "### Apply Higher-Order Taylor’s Method with step size $h=0.1$  to the logistic ODE $$ \\dot{x} = 2x(1-x), \\qquad x(0)=0.1. $$\n",
    "\n",
    "### Use Taylor’s method of order two to approximate the solution."
   ]
  },
  {
   "cell_type": "code",
   "execution_count": null,
   "id": "f6c58026-b7d0-4b8f-ac1f-6a527339e00f",
   "metadata": {},
   "outputs": [],
   "source": [
    "\n",
    "\n",
    "\n"
   ]
  },
  {
   "cell_type": "markdown",
   "id": "f5b46c5d-1e56-48fd-92e4-dc4a4d008686",
   "metadata": {},
   "source": [
    "### Compare numerical results with the exact solution $$\\displaystyle x(t) = \\frac{1}{1 + 9\\,e^{-2t}}.$$"
   ]
  },
  {
   "cell_type": "code",
   "execution_count": null,
   "id": "1184da23-6a33-4c64-8008-939d89c6eae5",
   "metadata": {},
   "outputs": [],
   "source": [
    "\n",
    "\n",
    "\n"
   ]
  },
  {
   "cell_type": "markdown",
   "id": "93ebf268-5545-4a0b-9e90-284841966e7d",
   "metadata": {},
   "source": [
    "---\n",
    "\n",
    "## Problem 3: \n",
    "\n",
    "### Apply Higher-Order Taylor’s Method with step size $h=0.5$ to the ODE $$ \\dot{x} = \\sin(t)+ e^{-t}, \\qquad x(0)=0$$\n",
    "\n",
    "### Use Taylor’s method of order three to approximate the solution."
   ]
  },
  {
   "cell_type": "code",
   "execution_count": null,
   "id": "9b0e95ae-2471-4a22-b4c9-390b53a17905",
   "metadata": {},
   "outputs": [],
   "source": [
    "\n",
    "\n"
   ]
  },
  {
   "cell_type": "markdown",
   "id": "1f586e13-c80f-4a40-95c1-5cf6b09f7789",
   "metadata": {},
   "source": [
    "---\n",
    "\n",
    "## Problem 4: \n",
    "\n",
    "### Apply Higher-Order Taylor’s Method with step size $h=0.5$ to the ODE $$ \\dot{x} = -10x, \\qquad x(0)=1$$\n",
    "\n",
    "### Use Taylor’s method of order four to approximate the solution."
   ]
  },
  {
   "cell_type": "code",
   "execution_count": null,
   "id": "cfcfcdcc-cd0e-4df1-8236-45a29d8903e3",
   "metadata": {},
   "outputs": [],
   "source": [
    "\n",
    "\n",
    "\n"
   ]
  },
  {
   "cell_type": "markdown",
   "id": "3ddcd9ad-ad22-4b2d-882e-fe005096547a",
   "metadata": {},
   "source": [
    "### Compare numerical results with the exact solution $$ x(t) = e^{-10t} $$"
   ]
  },
  {
   "cell_type": "code",
   "execution_count": null,
   "id": "246bd638-7498-4a89-a504-d2288213bec0",
   "metadata": {},
   "outputs": [],
   "source": [
    "\n",
    "\n"
   ]
  },
  {
   "cell_type": "markdown",
   "id": "7b75f92c-0982-4f32-8d43-7de1d5884724",
   "metadata": {},
   "source": [
    "---"
   ]
  }
 ],
 "metadata": {
  "kernelspec": {
   "display_name": "Python 3 (ipykernel)",
   "language": "python",
   "name": "python3"
  },
  "language_info": {
   "codemirror_mode": {
    "name": "ipython",
    "version": 3
   },
   "file_extension": ".py",
   "mimetype": "text/x-python",
   "name": "python",
   "nbconvert_exporter": "python",
   "pygments_lexer": "ipython3",
   "version": "3.11.5"
  }
 },
 "nbformat": 4,
 "nbformat_minor": 5
}
