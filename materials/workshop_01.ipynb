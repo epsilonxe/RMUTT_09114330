{
 "cells": [
  {
   "cell_type": "markdown",
   "id": "e4eb26b9",
   "metadata": {},
   "source": [
    "# Workshop 01\n",
    "## Construction of trajectories in discrete dynamical systems\n",
    "\n",
    "------------\n",
    "\n",
    "Let $x \\in \\mathbb{R}^n$, $x$ exhibits discrete behaviors as\n",
    "\n",
    "$$ x^+ = f(x) $$\n",
    "\n",
    "where $f: \\mathbb{R}^n \\to \\mathbb{R}^n$"
   ]
  },
  {
   "cell_type": "markdown",
   "id": "7b3d20f4",
   "metadata": {},
   "source": [
    "### 1. Consider the function $g(x) = 4x-12$ \n",
    "\n",
    "### 1.1. What are the first five iterates of the seed $x_0 = 0$"
   ]
  },
  {
   "cell_type": "code",
   "execution_count": null,
   "id": "1eca44e5",
   "metadata": {},
   "outputs": [],
   "source": []
  },
  {
   "cell_type": "code",
   "execution_count": null,
   "id": "6248faf1",
   "metadata": {},
   "outputs": [],
   "source": []
  },
  {
   "cell_type": "markdown",
   "id": "e279ec12",
   "metadata": {},
   "source": [
    "### 1.2. What are the first ten iterates of the seed  $x_0 = 5$"
   ]
  },
  {
   "cell_type": "code",
   "execution_count": null,
   "id": "14e33c30",
   "metadata": {},
   "outputs": [],
   "source": [
    "\n"
   ]
  },
  {
   "cell_type": "markdown",
   "id": "e33294a3",
   "metadata": {},
   "source": [
    "--------------\n",
    "### 2. Consider the function $$h(x) = \\dfrac{1}{2}\\cdot x + 10.$$ Calculate the first ten iterates of $h$ for the initial condition $x_0 = 4$, and then sketch this itinerary in a time series plot."
   ]
  },
  {
   "cell_type": "code",
   "execution_count": null,
   "id": "dcd30e2e",
   "metadata": {},
   "outputs": [],
   "source": [
    "\n"
   ]
  },
  {
   "cell_type": "code",
   "execution_count": null,
   "id": "216fdfc2",
   "metadata": {},
   "outputs": [],
   "source": [
    "\n"
   ]
  },
  {
   "cell_type": "markdown",
   "id": "9218898a",
   "metadata": {},
   "source": [
    "-------------\n",
    "\n",
    "### 3. Consider the function $f(x) = x^3$.\n",
    "\n",
    "### 3.1. Find all the fixed points of $f$."
   ]
  },
  {
   "cell_type": "code",
   "execution_count": null,
   "id": "42ce7337",
   "metadata": {},
   "outputs": [],
   "source": [
    " \n"
   ]
  },
  {
   "cell_type": "markdown",
   "id": "6f80aecd",
   "metadata": {},
   "source": [
    "### 3.2. What is the phase line for the function $f$? Consider both positive and negative seeds."
   ]
  },
  {
   "cell_type": "code",
   "execution_count": null,
   "id": "f2426a36",
   "metadata": {},
   "outputs": [],
   "source": [
    "\n"
   ]
  },
  {
   "cell_type": "markdown",
   "id": "0a0a7e27",
   "metadata": {},
   "source": [
    "### 3.3. Determine the stability of all of the fixed points of $f$. "
   ]
  },
  {
   "cell_type": "code",
   "execution_count": null,
   "id": "af6f48ac",
   "metadata": {},
   "outputs": [],
   "source": [
    "\n"
   ]
  },
  {
   "cell_type": "markdown",
   "id": "d501a51a",
   "metadata": {},
   "source": [
    "------------------\n",
    "\n",
    "### 4. Consider the function $g(x) = x^2 − 3$.\n",
    "\n",
    "### 4.1. Determine the first few iterates for the seed $x_0 = 1$."
   ]
  },
  {
   "cell_type": "code",
   "execution_count": null,
   "id": "447ce9f4",
   "metadata": {},
   "outputs": [],
   "source": [
    "\n"
   ]
  },
  {
   "cell_type": "markdown",
   "id": "2cafc566",
   "metadata": {},
   "source": [
    "### 4.2. Make a time series plot of the orbit. How would you describe this behavior?"
   ]
  },
  {
   "cell_type": "code",
   "execution_count": null,
   "id": "f520cf22",
   "metadata": {},
   "outputs": [],
   "source": [
    "\n"
   ]
  },
  {
   "cell_type": "markdown",
   "id": "530d202c",
   "metadata": {},
   "source": [
    "### 4.3. Is this behavior stable? Try iterating a seed close to $x_0$ and see what happens."
   ]
  },
  {
   "cell_type": "code",
   "execution_count": null,
   "id": "e827248f",
   "metadata": {},
   "outputs": [],
   "source": [
    "\n"
   ]
  },
  {
   "cell_type": "markdown",
   "id": "fe0e9bf0",
   "metadata": {},
   "source": [
    "---------------\n",
    "### 5. Find all fixed points for the function $f(x) = x + 1$."
   ]
  },
  {
   "cell_type": "code",
   "execution_count": null,
   "id": "674e2f0e",
   "metadata": {},
   "outputs": [],
   "source": [
    "\n"
   ]
  },
  {
   "cell_type": "markdown",
   "id": "34859a2d",
   "metadata": {},
   "source": [
    "----------------\n",
    "### 6. Determine all fixed points for the function $f(x) = \\sqrt{2}x$. Which fixed point(s) are stable and which are unstable?"
   ]
  },
  {
   "cell_type": "code",
   "execution_count": null,
   "id": "f9806941",
   "metadata": {},
   "outputs": [],
   "source": [
    "\n"
   ]
  },
  {
   "cell_type": "markdown",
   "id": "2adb60bf",
   "metadata": {},
   "source": [
    "---------------\n",
    "\n",
    "### 7. Find all fixed points for the function $f(x) = 2^x$."
   ]
  },
  {
   "cell_type": "code",
   "execution_count": null,
   "id": "3460f032",
   "metadata": {},
   "outputs": [],
   "source": [
    "\n"
   ]
  },
  {
   "cell_type": "markdown",
   "id": "25978532",
   "metadata": {},
   "source": [
    "---------------\n",
    "### 8. Calculate orbits for the function $$f(x) = 2.5x(1 − x).$$ What is the long-term behavior of seeds between 0 and 1 for this function?"
   ]
  },
  {
   "cell_type": "code",
   "execution_count": null,
   "id": "808b0e5f",
   "metadata": {},
   "outputs": [],
   "source": [
    "\n",
    "\n"
   ]
  },
  {
   "cell_type": "markdown",
   "id": "5e1e6c6a",
   "metadata": {},
   "source": [
    "-------------------------\n",
    "\n",
    "<font size=2>\n",
    "\n",
    "#### Update list\n",
    "\n",
    "| Date      | Commit Message      |      by      |\n",
    "|:----------|:--------------------|-------------:|\n",
    "| 2023/12/05| Initial created     | R. Promkam   |\n",
    "\n",
    "</font>\n",
    "\n",
    "-------------------------\n",
    "<p style=\"text-align: center;\"><font size=1>All rights reserved. This document, figures and data are published under MIT License.</font></p>"
   ]
  }
 ],
 "metadata": {
  "kernelspec": {
   "display_name": "Python 3 (ipykernel)",
   "language": "python",
   "name": "python3"
  },
  "language_info": {
   "codemirror_mode": {
    "name": "ipython",
    "version": 3
   },
   "file_extension": ".py",
   "mimetype": "text/x-python",
   "name": "python",
   "nbconvert_exporter": "python",
   "pygments_lexer": "ipython3",
   "version": "3.11.5"
  }
 },
 "nbformat": 4,
 "nbformat_minor": 5
}
