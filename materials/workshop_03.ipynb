{
 "cells": [
  {
   "cell_type": "markdown",
   "id": "e4eb26b9",
   "metadata": {},
   "source": [
    "# Workshop 03\n",
    "## Initial-value problems for ordinary differential equations\n",
    "\n",
    "------------\n"
   ]
  },
  {
   "cell_type": "markdown",
   "id": "e33294a3",
   "metadata": {},
   "source": [
    "### 1. Let $(x_0, y_0) = (1,2)$ and $(x_1, y_1) = (5, 8)$. Plot the following points\n",
    "$$ (x, y) = ( (1-\\lambda)x_0 + \\lambda x_1, (1-\\lambda)y_0 + \\lambda y_1 ) $$\n",
    "\n",
    "where $\\lambda \\in [0,1]$.\n"
   ]
  },
  {
   "cell_type": "code",
   "execution_count": 30,
   "id": "dcd30e2e",
   "metadata": {},
   "outputs": [
    {
     "data": {
      "image/png": "[encoded data removed]",
      "text/plain": [
       "<Figure size 640x480 with 1 Axes>"
      ]
     },
     "metadata": {},
     "output_type": "display_data"
    }
   ],
   "source": [
    "import numpy as np\n",
    "import matplotlib.pyplot as plt\n",
    "\n",
    "xref = [1, 5]\n",
    "yref = [2, 8]\n",
    "plt.scatter(xref, yref, color='blue', s=60)\n",
    "\n",
    "for l in np.linspace(0, 1, num=50):\n",
    "    x = (1-l)*xref[0] + l*xref[1]\n",
    "    y = (1-l)*yref[0] + l*yref[1]\n",
    "    plt.scatter(x, y, color='red', s=20)\n",
    "\n",
    "plt.show()"
   ]
  },
  {
   "cell_type": "markdown",
   "id": "7b3d20f4",
   "metadata": {},
   "source": [
    "-----------------\n",
    "\n",
    "### 2. Use the algorithm for Euler’s method with to determine approximations to the solution to the initial-value problem\n",
    "$$ y^{\\prime} = y - t^2 + 1,\\quad 0\\leq t \\leq 2\\quad, y(0) = 0.5 $$\n",
    "\n",
    "and compare these with the exact values given by\n",
    "\n",
    "$$ y(t) = (t + 1)^2 − 0.5\\exp(t) $$"
   ]
  },
  {
   "cell_type": "code",
   "execution_count": null,
   "id": "6248faf1",
   "metadata": {},
   "outputs": [],
   "source": [
    "\n",
    "\n",
    "\n"
   ]
  },
  {
   "cell_type": "markdown",
   "id": "fa54ffcc",
   "metadata": {},
   "source": [
    "------------------"
   ]
  },
  {
   "cell_type": "markdown",
   "id": "e279ec12",
   "metadata": {},
   "source": [
    "### 3. Use the algorithm for higher-order Taylor methods with to determine approximations to the solution to the initial-value problem\n",
    "$$ y^{\\prime} = y - t^2 + 1,\\quad 0\\leq t \\leq 2,\\quad y(0) = 0.5 $$\n",
    "\n",
    "and compare these with the exact values given by\n",
    "\n",
    "$$ y(t) = (t + 1)^2 − 0.5\\exp(t) $$"
   ]
  },
  {
   "cell_type": "code",
   "execution_count": null,
   "id": "14e33c30",
   "metadata": {},
   "outputs": [],
   "source": [
    "\n",
    "\n",
    "\n"
   ]
  },
  {
   "cell_type": "markdown",
   "id": "9218898a",
   "metadata": {},
   "source": [
    "-------------\n",
    "\n",
    "### 4. Use the algorithm for Runge-Kutta method of order 2 with to determine approximations to the solution to the initial-value problem\n",
    "$$ y^{\\prime} = y - t^2 + 1,\\quad 0\\leq t \\leq 2,\\quad y(0) = 0.5 $$\n",
    "\n",
    "and compare these with the exact values given by\n",
    "\n",
    "$$ y(t) = (t + 1)^2 − 0.5\\exp(t) $$"
   ]
  },
  {
   "cell_type": "code",
   "execution_count": null,
   "id": "42ce7337",
   "metadata": {},
   "outputs": [],
   "source": [
    " \n",
    "\n",
    "    \n",
    "    "
   ]
  },
  {
   "cell_type": "markdown",
   "id": "2671e9dc",
   "metadata": {},
   "source": [
    "-------------\n",
    "\n",
    "### 5. Use the algorithm for Runge-Kutta method of order 3 with to determine approximations to the solution to the initial-value problem\n",
    "$$ y^{\\prime} = y - t^2 + 1,\\quad 0\\leq t \\leq 2,\\quad y(0) = 0.5 $$\n",
    "\n",
    "and compare these with the exact values given by\n",
    "\n",
    "$$ y(t) = (t + 1)^2 − 0.5\\exp(t) $$"
   ]
  },
  {
   "cell_type": "code",
   "execution_count": null,
   "id": "60b4ae20",
   "metadata": {},
   "outputs": [],
   "source": [
    "\n",
    "\n",
    "\n"
   ]
  },
  {
   "cell_type": "markdown",
   "id": "8c2a11e4",
   "metadata": {},
   "source": [
    "-------------\n",
    "\n",
    "### 6. Use the algorithm for Runge-Kutta method of order 4 with to determine approximations to the solution to the initial-value problem\n",
    "$$ y^{\\prime} = y - t^2 + 1,\\quad 0\\leq t \\leq 2,\\quad y(0) = 0.5 $$\n",
    "\n",
    "and compare these with the exact values given by\n",
    "\n",
    "$$ y(t) = (t + 1)^2 − 0.5\\exp(t) $$"
   ]
  },
  {
   "cell_type": "code",
   "execution_count": null,
   "id": "7b087e51",
   "metadata": {},
   "outputs": [],
   "source": [
    " \n",
    "    \n",
    "\n",
    "    "
   ]
  },
  {
   "cell_type": "markdown",
   "id": "16060fa1",
   "metadata": {},
   "source": [
    "--------------"
   ]
  },
  {
   "cell_type": "markdown",
   "id": "5e1e6c6a",
   "metadata": {},
   "source": [
    "-------------------------\n",
    "\n",
    "<font size=2>\n",
    "\n",
    "#### Update list\n",
    "\n",
    "| Date      | Commit Message      |      by      |\n",
    "|:----------|:--------------------|-------------:|\n",
    "| 2023/12/24| Initial created     | R. Promkam   |\n",
    "\n",
    "</font>\n",
    "\n",
    "-------------------------\n",
    "<p style=\"text-align: center;\"><font size=1>All rights reserved. This document, figures and data are published under MIT License.</font></p>"
   ]
  }
 ],
 "metadata": {
  "kernelspec": {
   "display_name": "Python 3 (ipykernel)",
   "language": "python",
   "name": "python3"
  },
  "language_info": {
   "codemirror_mode": {
    "name": "ipython",
    "version": 3
   },
   "file_extension": ".py",
   "mimetype": "text/x-python",
   "name": "python",
   "nbconvert_exporter": "python",
   "pygments_lexer": "ipython3",
   "version": "3.10.6"
  }
 },
 "nbformat": 4,
 "nbformat_minor": 5
}
