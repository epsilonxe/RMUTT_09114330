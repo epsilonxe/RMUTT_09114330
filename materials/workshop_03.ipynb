{
 "cells": [
  {
   "cell_type": "markdown",
   "id": "fb40a6bd-e482-4ee9-8072-822ac78f7cf1",
   "metadata": {},
   "source": [
    "# Workshop: Euler's Method\n",
    "\n",
    "## Overview\n",
    "\n",
    "**Duration:** 2 hours  \n",
    "**Objectives:**\n",
    "- Reinforce understanding of **Euler’s Method** and its derivation from **Taylor series**.\n",
    "- Practice implementing **Euler’s Method** on different ODE examples.\n",
    "- Compare numerical solutions with **exact solutions** to assess accuracy and error behavior."
   ]
  },
  {
   "cell_type": "markdown",
   "id": "a6ac0778-69ed-4ddd-ae30-5e4e5e5b5f36",
   "metadata": {},
   "source": [
    "---\n",
    "\n",
    "## Problem 1: Exponential Growth  \n",
    "\n",
    "### Apply Euler’s Method with step size $h=0.1$ to the ODE $$ \\dot{x} = x, \\qquad x(0)=1.$$"
   ]
  },
  {
   "cell_type": "code",
   "execution_count": null,
   "id": "180c3d05-fc3d-44d1-91c0-fd5f79f54bee",
   "metadata": {},
   "outputs": [],
   "source": [
    "\n",
    "\n",
    "\n"
   ]
  },
  {
   "cell_type": "markdown",
   "id": "c4d354d7-6e2e-426d-b4fb-b29d42547b66",
   "metadata": {},
   "source": [
    "### Compare numerical results with the exact solution $ x(t) = e^t $."
   ]
  },
  {
   "cell_type": "code",
   "execution_count": null,
   "id": "b1684c37-988a-4dcd-9670-da2ae70b30ec",
   "metadata": {},
   "outputs": [],
   "source": [
    "\n",
    "\n",
    "\n"
   ]
  },
  {
   "cell_type": "markdown",
   "id": "419ddf55-0712-453f-be6b-4a98d5f170f0",
   "metadata": {},
   "source": [
    "---\n",
    "\n",
    "## Problem 2: Logistic Growth  \n",
    "\n",
    "### Apply Euler’s Method with step size $h=0.1$  to the logistic ODE $$ \\dot{x} = 2x(1-x), \\qquad x(0)=0.1. $$"
   ]
  },
  {
   "cell_type": "code",
   "execution_count": null,
   "id": "f6c58026-b7d0-4b8f-ac1f-6a527339e00f",
   "metadata": {},
   "outputs": [],
   "source": [
    "\n",
    "\n",
    "\n"
   ]
  },
  {
   "cell_type": "markdown",
   "id": "f5b46c5d-1e56-48fd-92e4-dc4a4d008686",
   "metadata": {},
   "source": [
    "### Vary the step size \\(h\\) to see how it affects accuracy and discuss long-term behavior and compare with the exact solution $$\\displaystyle x(t) = \\frac{1}{1 + 9\\,e^{-2t}}.$$"
   ]
  },
  {
   "cell_type": "code",
   "execution_count": null,
   "id": "1184da23-6a33-4c64-8008-939d89c6eae5",
   "metadata": {},
   "outputs": [],
   "source": [
    "\n",
    "\n",
    "\n"
   ]
  },
  {
   "cell_type": "markdown",
   "id": "1edf6470-a200-4b6e-81b4-c426f80f047f",
   "metadata": {},
   "source": [
    "---\n",
    "\n",
    "## Problem 3: Simple Harmonic Oscillator \n",
    "\n",
    "### Rewrite $$\\ddot{x} + x = 0, \\quad x(0)=1, \\quad \\dot{x}(0)=0$$ as a first-order system and implement Euler’s Method with step size $h=0.1$ ."
   ]
  },
  {
   "cell_type": "code",
   "execution_count": null,
   "id": "3ce285a8-6b20-4d8f-83fa-dc4de6d8c799",
   "metadata": {},
   "outputs": [],
   "source": [
    "\n",
    "\n"
   ]
  },
  {
   "cell_type": "markdown",
   "id": "336cc49a-a729-4461-b1b7-ca81c9b884ea",
   "metadata": {},
   "source": [
    "### Compare numerical approximations with the exact solution $$x(t) = \\cos t$$ and observe the energy drift phenomenon."
   ]
  },
  {
   "cell_type": "code",
   "execution_count": null,
   "id": "d83efbf7-b109-444b-b819-1c1bd970aff5",
   "metadata": {},
   "outputs": [],
   "source": [
    "\n",
    "\n"
   ]
  },
  {
   "cell_type": "markdown",
   "id": "08386a97-e53c-4533-9c17-9c8f8d8ee894",
   "metadata": {},
   "source": [
    "---\n",
    "\n",
    "## Problem 4: Nonlinear Damped Oscillator\n",
    "\n",
    "Consider a nonlinear damped oscillator with the equation:\n",
    "     $$\\ddot{x} + \\gamma \\dot{x} + x + \\beta x^3 = 0. $$\n",
    "Rewrite as a **first-order system**:\n",
    "     $$\\begin{cases}\n",
    "         \\dot{x} = v, \\\\\n",
    "         \\dot{v} = -\\gamma v - x - \\beta x^3.\n",
    "       \\end{cases}$$\n",
    "\n",
    "Assume parameters: $ \\gamma = 0.2, \\beta = 0.1 $, with initial conditions $ x(0) = 1 $, $ v(0) = 0 $.\n",
    "\n",
    "\n",
    "### Apply Euler’s method with step size $ h = 0.1 $.\n",
    "   "
   ]
  },
  {
   "cell_type": "code",
   "execution_count": null,
   "id": "5484c9b9-3a4d-48fb-a043-fef36f109b73",
   "metadata": {},
   "outputs": [],
   "source": [
    "\n",
    "\n"
   ]
  },
  {
   "cell_type": "markdown",
   "id": "d5ff1d10-fe20-40db-8f61-e6ae66bfcb40",
   "metadata": {},
   "source": [
    "### Compare the behavior of this system with the **simple harmonic oscillator** (how does damping affect long-term behavior?)."
   ]
  },
  {
   "cell_type": "code",
   "execution_count": null,
   "id": "174d27d7-89ca-4c1d-8145-1bedeb8f69dd",
   "metadata": {},
   "outputs": [],
   "source": [
    "\n",
    "\n",
    "\n"
   ]
  },
  {
   "cell_type": "markdown",
   "id": "ee1932c9-b989-437c-80db-b5eb931023ed",
   "metadata": {},
   "source": [
    "---\n",
    "\n",
    "## Problem 5: Predator-Prey Model (New)\n",
    "\n",
    "Consider the **Lotka-Volterra** predator-prey system:\n",
    "     $$\\begin{cases}\n",
    "         \\dot{x} = ax - bxy, \\\\\n",
    "         \\dot{y} = cxy - dy.\n",
    "       \\end{cases}\n",
    "     $$\n",
    "\n",
    "Here, $ x $ is the prey population, and $ y $ is the predator population.\n",
    "   \n",
    "   - Assume parameters: $$ a = 1.1, b = 0.4, c = 0.1, d = 0.4 .$$\n",
    "   - Initial conditions: $$ x(0) = 10 ,  y(0) = 5 . $$\n",
    "\n",
    "### Apply Euler’s Method with step size $ h = 0.1 $.\n",
    "   \n"
   ]
  },
  {
   "cell_type": "code",
   "execution_count": null,
   "id": "ee46201b-d3cf-4707-93b9-b0556adaada8",
   "metadata": {},
   "outputs": [],
   "source": [
    "\n",
    "\n"
   ]
  },
  {
   "cell_type": "markdown",
   "id": "c6bb2bf5-8074-4641-b57f-5cd4bdfd1ef4",
   "metadata": {},
   "source": [
    "### Compare numerical predictions with expectations for predator-prey cycles."
   ]
  },
  {
   "cell_type": "code",
   "execution_count": null,
   "id": "da3dd91b-d8e0-451b-b1f8-acbd217dd343",
   "metadata": {},
   "outputs": [],
   "source": [
    "\n",
    "\n",
    "\n"
   ]
  },
  {
   "cell_type": "markdown",
   "id": "c588a985-43b8-4097-9509-a623b137ed07",
   "metadata": {},
   "source": [
    "---"
   ]
  }
 ],
 "metadata": {
  "kernelspec": {
   "display_name": "Python 3 (ipykernel)",
   "language": "python",
   "name": "python3"
  },
  "language_info": {
   "codemirror_mode": {
    "name": "ipython",
    "version": 3
   },
   "file_extension": ".py",
   "mimetype": "text/x-python",
   "name": "python",
   "nbconvert_exporter": "python",
   "pygments_lexer": "ipython3",
   "version": "3.11.5"
  }
 },
 "nbformat": 4,
 "nbformat_minor": 5
}
