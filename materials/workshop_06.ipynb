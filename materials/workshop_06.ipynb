{
 "cells": [
  {
   "cell_type": "markdown",
   "id": "e4eb26b9",
   "metadata": {},
   "source": [
    "# Workshop 06\n",
    "## Contruction of bifurcations and phase planes of dynamical systems\n",
    "\n",
    "------------\n"
   ]
  },
  {
   "cell_type": "markdown",
   "id": "e33294a3",
   "metadata": {},
   "source": [
    "### 1. Construct the phase plane diagram of the following system:\n",
    "\n",
    "#### 1.1 \n",
    "$$\\begin{align} \n",
    "x^{\\prime} &= -x-y, \\\\\n",
    "y^{\\prime} &=  x-y,\n",
    "\\end{align}$$\n",
    "where $x(0), y(0) \\in \\mathbb{R}$."
   ]
  },
  {
   "cell_type": "code",
   "execution_count": null,
   "id": "dcd30e2e",
   "metadata": {},
   "outputs": [],
   "source": [
    "\n",
    "\n",
    "\n"
   ]
  },
  {
   "cell_type": "markdown",
   "id": "1d89b904-c31f-46e2-86d2-13bc4a75ac92",
   "metadata": {},
   "source": [
    "#### 1.2 \n",
    "\n",
    "$$\\begin{align} \n",
    "x^{\\prime} &= -2x, \\\\\n",
    "y^{\\prime} &=  -4x-2y,\n",
    "\\end{align}$$\n",
    "where $x(0), y(0) \\in \\mathbb{R}$.\n"
   ]
  },
  {
   "cell_type": "code",
   "execution_count": null,
   "id": "a0d5ab0d-6cce-48f1-a4c1-ff47a78fd4cb",
   "metadata": {},
   "outputs": [],
   "source": [
    "\n",
    "\n"
   ]
  },
  {
   "cell_type": "markdown",
   "id": "83b4d334-95fc-4cf3-b165-9f206d107911",
   "metadata": {},
   "source": [
    "#### 1.3\n",
    "\n",
    "$$\\begin{align} \n",
    "x^{\\prime} &= x, \\\\\n",
    "y^{\\prime} &= x^2+y^2-1,\n",
    "\\end{align}$$\n",
    "where $x(0), y(0) \\in \\mathbb{R}$."
   ]
  },
  {
   "cell_type": "code",
   "execution_count": null,
   "id": "5fe70a36-dbfd-444e-8249-5e99eff1aa06",
   "metadata": {},
   "outputs": [],
   "source": [
    "\n",
    "\n"
   ]
  },
  {
   "cell_type": "markdown",
   "id": "f03b4334-6276-476a-8344-f735b811d13d",
   "metadata": {},
   "source": [
    "#### 1.4\n",
    "\n",
    "$$\\begin{align} \n",
    "x^{\\prime} &= x, \\\\\n",
    "y^{\\prime} &= x(1-x^2)+y,\n",
    "\\end{align}$$\n",
    "where $x(0), y(0) \\in \\mathbb{R}$."
   ]
  },
  {
   "cell_type": "code",
   "execution_count": null,
   "id": "06ce94b9-9ae3-4c88-b262-a21434f19a21",
   "metadata": {},
   "outputs": [],
   "source": [
    "\n",
    "\n"
   ]
  },
  {
   "cell_type": "markdown",
   "id": "ec4b5370-0aaa-43c0-9ad4-f465187d2dd2",
   "metadata": {},
   "source": [
    "#### 1.5\n",
    "\n",
    "$$\\begin{align} \n",
    "S^{\\prime} &= -\\beta SI , \\\\\n",
    "I^{\\prime} &=  \\beta SI - \\gamma I, \\\\\n",
    "\\end{align}$$\n",
    "where all parameters are non-negative and initial conditions are $S(0), I(0) \\in \\mathbb{R}_{\\geq 0} $."
   ]
  },
  {
   "cell_type": "code",
   "execution_count": null,
   "id": "d10de020-7b59-40b4-9775-c2a4114b38ff",
   "metadata": {},
   "outputs": [],
   "source": [
    "\n",
    "\n"
   ]
  },
  {
   "cell_type": "markdown",
   "id": "7b3d20f4",
   "metadata": {},
   "source": [
    "-----------------\n",
    "\n",
    "### 2. Construct the bifurcation diagrams of the following system\n"
   ]
  },
  {
   "cell_type": "markdown",
   "id": "7e1756ba-098b-421a-8984-3fa3111b3d5c",
   "metadata": {},
   "source": [
    "#### 2.1\n",
    "\n",
    "$$\\begin{align} \n",
    "x^{\\prime} &= \\alpha x - \\beta xy, \\\\\n",
    "y^{\\prime} &=  -\\gamma y + \\delta xy,\n",
    "\\end{align}$$\n",
    "where all parameters are non-negative and initial conditions are $x(0) = x_0 \\in \\mathbb{R}$ and $y(0) = y_0 \\in \\mathbb{R}$."
   ]
  },
  {
   "cell_type": "code",
   "execution_count": null,
   "id": "6248faf1",
   "metadata": {},
   "outputs": [],
   "source": [
    "\n",
    "\n",
    "\n"
   ]
  },
  {
   "cell_type": "markdown",
   "id": "b4ebd63e",
   "metadata": {},
   "source": [
    "------------------"
   ]
  },
  {
   "cell_type": "markdown",
   "id": "e279ec12",
   "metadata": {},
   "source": [
    "#### 2.2\n",
    "$$\\begin{align} \n",
    "S^{\\prime} &= -\\beta SI , \\\\\n",
    "I^{\\prime} &=  \\beta SI - \\gamma I, \\\\\n",
    "\\end{align}$$\n",
    "where all parameters are non-negative and initial conditions are $S(0), I(0) \\in \\mathbb{R}_{\\geq 0} $."
   ]
  },
  {
   "cell_type": "code",
   "execution_count": null,
   "id": "14e33c30",
   "metadata": {},
   "outputs": [],
   "source": [
    "\n",
    "\n",
    "\n"
   ]
  },
  {
   "cell_type": "markdown",
   "id": "9218898a",
   "metadata": {},
   "source": [
    "-------------\n",
    "\n",
    "#### 2.3\n",
    "$$\\begin{align} \n",
    "x^{\\prime} &= \\delta(y-x), \\\\\n",
    "y^{\\prime} &=  x(\\rho-z)-y, \\\\\n",
    "z^{\\prime} &= xy - \\beta z\n",
    "\\end{align}$$\n",
    "where all parameters are non-negative and initial conditions are $x(0), y(0), z(0) \\in \\mathbb{R}$."
   ]
  },
  {
   "cell_type": "code",
   "execution_count": null,
   "id": "42ce7337",
   "metadata": {},
   "outputs": [],
   "source": [
    " \n",
    "\n",
    "    \n",
    "    "
   ]
  },
  {
   "cell_type": "markdown",
   "id": "16060fa1",
   "metadata": {},
   "source": [
    "--------------"
   ]
  },
  {
   "cell_type": "markdown",
   "id": "5e1e6c6a",
   "metadata": {},
   "source": [
    "-------------------------\n",
    "\n",
    "<font size=2>\n",
    "\n",
    "#### Update list\n",
    "\n",
    "| Date      | Commit Message      |      by      |\n",
    "|:----------|:--------------------|-------------:|\n",
    "| 2023/12/24| Initial created     | R. Promkam   |\n",
    "\n",
    "</font>\n",
    "\n",
    "-------------------------\n",
    "<p style=\"text-align: center;\"><font size=1>All rights reserved. This document, figures and data are published under MIT License.</font></p>"
   ]
  }
 ],
 "metadata": {
  "kernelspec": {
   "display_name": "Python 3 (ipykernel)",
   "language": "python",
   "name": "python3"
  },
  "language_info": {
   "codemirror_mode": {
    "name": "ipython",
    "version": 3
   },
   "file_extension": ".py",
   "mimetype": "text/x-python",
   "name": "python",
   "nbconvert_exporter": "python",
   "pygments_lexer": "ipython3",
   "version": "3.10.6"
  }
 },
 "nbformat": 4,
 "nbformat_minor": 5
}
