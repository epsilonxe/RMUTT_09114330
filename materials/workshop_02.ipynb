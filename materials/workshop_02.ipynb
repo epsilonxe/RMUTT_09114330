{
 "cells": [
  {
   "cell_type": "markdown",
   "id": "e4eb26b9",
   "metadata": {},
   "source": [
    "# Workshop 02\n",
    "## Fixed-point iterative schemes with applications to dynamical systems\n",
    "\n",
    "------------\n"
   ]
  },
  {
   "cell_type": "markdown",
   "id": "e33294a3",
   "metadata": {},
   "source": [
    "--------------\n",
    "### 1. Consider the system $$x_{n+1} = \\cos(x_n),$$ where $x_0\\in\\mathbb{R}$\n",
    "\n",
    "### 1.1. How many fixed points does this system has?"
   ]
  },
  {
   "cell_type": "code",
   "execution_count": null,
   "id": "dcd30e2e",
   "metadata": {},
   "outputs": [],
   "source": [
    "\n",
    "\n"
   ]
  },
  {
   "cell_type": "markdown",
   "id": "ddaaad80",
   "metadata": {},
   "source": [
    "### 1.2. Find all fixed points of this system."
   ]
  },
  {
   "cell_type": "code",
   "execution_count": null,
   "id": "216fdfc2",
   "metadata": {
    "scrolled": false
   },
   "outputs": [],
   "source": [
    "\n",
    "\n"
   ]
  },
  {
   "cell_type": "markdown",
   "id": "90bc632d",
   "metadata": {},
   "source": [
    "### 1.3. Show cobweb plots"
   ]
  },
  {
   "cell_type": "code",
   "execution_count": null,
   "id": "e3187b10",
   "metadata": {},
   "outputs": [],
   "source": [
    "\n",
    "\n",
    "\n"
   ]
  },
  {
   "cell_type": "markdown",
   "id": "7b3d20f4",
   "metadata": {},
   "source": [
    "-----------------\n",
    "\n",
    "### 2. Consider the system $$x_{n+1} = 0.02x_n^2-12.5,$$ where $x_0\\in\\mathbb{R}$\n",
    "\n",
    "### 2.1. How many fixed points does this system has?"
   ]
  },
  {
   "cell_type": "code",
   "execution_count": null,
   "id": "6248faf1",
   "metadata": {},
   "outputs": [],
   "source": [
    "\n",
    "\n",
    "\n"
   ]
  },
  {
   "cell_type": "markdown",
   "id": "e279ec12",
   "metadata": {},
   "source": [
    "### 2.2. Find all fixed point of this system and the cobweb plots"
   ]
  },
  {
   "cell_type": "code",
   "execution_count": null,
   "id": "14e33c30",
   "metadata": {},
   "outputs": [],
   "source": [
    "\n",
    "\n",
    "\n"
   ]
  },
  {
   "cell_type": "markdown",
   "id": "9218898a",
   "metadata": {},
   "source": [
    "-------------\n",
    "\n",
    "### 3. Consider the system $$x_{n+1} = x_n^2 - x_n - 3,$$ where $x_0\\in\\mathbb{R}$.\n",
    "\n",
    "### 3.1. How many fixed points does this system has?"
   ]
  },
  {
   "cell_type": "code",
   "execution_count": null,
   "id": "42ce7337",
   "metadata": {},
   "outputs": [],
   "source": [
    " \n"
   ]
  },
  {
   "cell_type": "markdown",
   "id": "2671e9dc",
   "metadata": {},
   "source": [
    "### 3.2. Find all fixed points of this system and show the cobweb plot."
   ]
  },
  {
   "cell_type": "code",
   "execution_count": null,
   "id": "60b4ae20",
   "metadata": {},
   "outputs": [],
   "source": [
    "\n"
   ]
  },
  {
   "cell_type": "markdown",
   "id": "8c2a11e4",
   "metadata": {},
   "source": [
    "-------------\n",
    "\n",
    "### 4. Consider the system $$x_{n+1} = \\sin(x_n) -2x_n + 1,$$ where $x_0\\in\\mathbb{R}$.\n",
    "\n",
    "### 4.1. How many fixed points does this system has?"
   ]
  },
  {
   "cell_type": "code",
   "execution_count": null,
   "id": "7b087e51",
   "metadata": {},
   "outputs": [],
   "source": [
    " \n"
   ]
  },
  {
   "cell_type": "markdown",
   "id": "d3bd2f5e",
   "metadata": {},
   "source": [
    "### 4.2. Find all fixed points of this system and show the cobweb plots."
   ]
  },
  {
   "cell_type": "code",
   "execution_count": null,
   "id": "7ba23024",
   "metadata": {},
   "outputs": [],
   "source": [
    "\n"
   ]
  },
  {
   "cell_type": "markdown",
   "id": "16060fa1",
   "metadata": {},
   "source": [
    "--------------\n",
    "### 5. Consider the system\n",
    "\n",
    "$$\n",
    "\\begin{align}\n",
    "x_{n+1} &= \\frac{1}{y_n}(10 - x_n^2), \\\\\n",
    "y_{n+1} &= 57-3x_ny_n^2,\n",
    "\\end{align}\n",
    "$$ \n",
    "\n",
    "where $(x_0,y_0)\\in\\mathbb{R}^2$.\n",
    "\n",
    "\n",
    "### 5.1. How many fixed points does this system has?"
   ]
  },
  {
   "cell_type": "code",
   "execution_count": null,
   "id": "12adb344",
   "metadata": {},
   "outputs": [],
   "source": [
    "\n",
    "\n",
    "\n"
   ]
  },
  {
   "cell_type": "markdown",
   "id": "728ce34d",
   "metadata": {},
   "source": [
    "### 5.2. Find all fixed points of the system"
   ]
  },
  {
   "cell_type": "code",
   "execution_count": null,
   "id": "ba21b1fa",
   "metadata": {},
   "outputs": [],
   "source": [
    "\n",
    "\n",
    "\n"
   ]
  },
  {
   "cell_type": "markdown",
   "id": "d501a51a",
   "metadata": {},
   "source": [
    "------------------\n",
    "\n",
    "### 6. Consider the system\n",
    "$$\n",
    "\\begin{align}\n",
    "x_{n+1} & = \\frac{1}{5}\\left( \\sin(xy) -x^2 - y \\right), \\\\\n",
    "y_{n+1} & = \\frac{1}{6}\\left( \\cos(x+y) + y^2 -x +2 \\right),\n",
    "\\end{align}\n",
    "$$ \n",
    "\n",
    "where $(x_0,y_0)\\in\\mathbb{R}^2$.\n",
    "\n",
    "### 6.1. How many fixed points does this system has?"
   ]
  },
  {
   "cell_type": "code",
   "execution_count": null,
   "id": "447ce9f4",
   "metadata": {},
   "outputs": [],
   "source": [
    "\n",
    "\n",
    "\n"
   ]
  },
  {
   "cell_type": "markdown",
   "id": "2cafc566",
   "metadata": {},
   "source": [
    "### 6.2. Find all fixed points of this system."
   ]
  },
  {
   "cell_type": "code",
   "execution_count": null,
   "id": "f520cf22",
   "metadata": {},
   "outputs": [],
   "source": [
    "\n",
    "\n",
    "\n"
   ]
  },
  {
   "cell_type": "markdown",
   "id": "5e1e6c6a",
   "metadata": {},
   "source": [
    "-------------------------\n",
    "\n",
    "<font size=2>\n",
    "\n",
    "#### Update list\n",
    "\n",
    "| Date      | Commit Message      |      by      |\n",
    "|:----------|:--------------------|-------------:|\n",
    "| 2023/12/17| Initial created     | R. Promkam   |\n",
    "\n",
    "</font>\n",
    "\n",
    "-------------------------\n",
    "<p style=\"text-align: center;\"><font size=1>All rights reserved. This document, figures and data are published under MIT License.</font></p>"
   ]
  }
 ],
 "metadata": {
  "kernelspec": {
   "display_name": "Python 3 (ipykernel)",
   "language": "python",
   "name": "python3"
  },
  "language_info": {
   "codemirror_mode": {
    "name": "ipython",
    "version": 3
   },
   "file_extension": ".py",
   "mimetype": "text/x-python",
   "name": "python",
   "nbconvert_exporter": "python",
   "pygments_lexer": "ipython3",
   "version": "3.10.6"
  }
 },
 "nbformat": 4,
 "nbformat_minor": 5
}
