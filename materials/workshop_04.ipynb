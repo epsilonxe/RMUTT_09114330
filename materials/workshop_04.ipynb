{
 "cells": [
  {
   "cell_type": "markdown",
   "id": "e4eb26b9",
   "metadata": {},
   "source": [
    "# Workshop 04\n",
    "## Boundary value problems and systems of ordinary differential equations \n",
    "\n",
    "------------\n"
   ]
  },
  {
   "cell_type": "markdown",
   "id": "e33294a3",
   "metadata": {},
   "source": [
    "### 1. Find numerical solutions to the predator-prey system:\n",
    "$$\\begin{align} \n",
    "R^{\\prime} &= 6R -3RW, \\\\\n",
    "W^{\\prime} &=  -2W + 5RW,\n",
    "\\end{align}$$\n",
    "where $R(0) = 100$ and $W(0) = 55$.\n"
   ]
  },
  {
   "cell_type": "code",
   "execution_count": null,
   "id": "dcd30e2e",
   "metadata": {},
   "outputs": [],
   "source": [
    "\n",
    "\n",
    "\n"
   ]
  },
  {
   "cell_type": "markdown",
   "id": "7b3d20f4",
   "metadata": {},
   "source": [
    "-----------------\n",
    "\n",
    "### 2. Find numerical solutions to the Lotka-Volterra equations:\n",
    "$$\\begin{align} \n",
    "x^{\\prime} &= \\alpha x - \\beta xy, \\\\\n",
    "y^{\\prime} &=  -\\gamma y + \\delta xy,\n",
    "\\end{align}$$\n",
    "where all parameters are non-negative and initial conditions are $x(0) = x_0 \\in \\mathbb{R}$ and $y(0) = y_0 \\in \\mathbb{R}$.\n"
   ]
  },
  {
   "cell_type": "code",
   "execution_count": null,
   "id": "6248faf1",
   "metadata": {},
   "outputs": [],
   "source": [
    "\n",
    "\n",
    "\n"
   ]
  },
  {
   "cell_type": "markdown",
   "id": "b4ebd63e",
   "metadata": {},
   "source": [
    "------------------"
   ]
  },
  {
   "cell_type": "markdown",
   "id": "e279ec12",
   "metadata": {},
   "source": [
    "### 3. Find numerical solutions to the SIR model for spread of disease:\n",
    "$$\\begin{align} \n",
    "S^{\\prime} &= -\\beta SI + \\delta R, \\\\\n",
    "I^{\\prime} &=  \\beta SI - \\gamma I, \\\\\n",
    "R^{\\prime} &=  \\gamma I - \\delta R\n",
    "\\end{align}$$\n",
    "where all parameters are non-negative and initial conditions are $S(0) = S_0 \\in \\mathbb{R}, I(0) = I_0 \\in \\mathbb{R} $ and $R(0) = R_0 \\in \\mathbb{R}$."
   ]
  },
  {
   "cell_type": "code",
   "execution_count": null,
   "id": "14e33c30",
   "metadata": {},
   "outputs": [],
   "source": [
    "\n",
    "\n",
    "\n"
   ]
  },
  {
   "cell_type": "markdown",
   "id": "9218898a",
   "metadata": {},
   "source": [
    "-------------\n",
    "\n",
    "### 4. Find numerical solutions to the Lorenz system:\n",
    "$$\\begin{align} \n",
    "x^{\\prime} &= \\delta(y-x), \\\\\n",
    "y^{\\prime} &=  x(\\rho-z)-y, \\\\\n",
    "z^{\\prime} &= xy - \\beta z\n",
    "\\end{align}$$\n",
    "where all parameters are non-negative and initial conditions are $x(0) = x_0 \\in \\mathbb{R}, y(0) = y_0 \\in \\mathbb{R} $ and $z(0) = z_0 \\in \\mathbb{R}$."
   ]
  },
  {
   "cell_type": "code",
   "execution_count": null,
   "id": "42ce7337",
   "metadata": {},
   "outputs": [],
   "source": [
    " \n",
    "\n",
    "    \n",
    "    "
   ]
  },
  {
   "cell_type": "markdown",
   "id": "2671e9dc",
   "metadata": {},
   "source": [
    "-------------\n",
    "\n",
    "### 5. Find numerical solution to the differential equation which represents the motion of a simple pendulum\n",
    "$$ \\dfrac{\\mathrm{d}^2\\theta}{\\mathrm{d}t^2} + \\dfrac{g}{l}\\sin(\\theta) = 0 $$\n",
    "where $g$ is the magnitude of the gravitational field, $l$ is the length of the rod or cord, and $\\theta$ is the angle from the vertical to the pendulum.\n",
    "\n",
    "<img src='pendulum.gif'>"
   ]
  },
  {
   "cell_type": "code",
   "execution_count": null,
   "id": "60b4ae20",
   "metadata": {},
   "outputs": [],
   "source": [
    "\n",
    "\n",
    "\n"
   ]
  },
  {
   "cell_type": "markdown",
   "id": "16060fa1",
   "metadata": {},
   "source": [
    "--------------"
   ]
  },
  {
   "cell_type": "markdown",
   "id": "5e1e6c6a",
   "metadata": {},
   "source": [
    "-------------------------\n",
    "\n",
    "<font size=2>\n",
    "\n",
    "#### Update list\n",
    "\n",
    "| Date      | Commit Message      |      by      |\n",
    "|:----------|:--------------------|-------------:|\n",
    "| 2023/12/24| Initial created     | R. Promkam   |\n",
    "\n",
    "</font>\n",
    "\n",
    "-------------------------\n",
    "<p style=\"text-align: center;\"><font size=1>All rights reserved. This document, figures and data are published under MIT License.</font></p>"
   ]
  }
 ],
 "metadata": {
  "kernelspec": {
   "display_name": "Python 3 (ipykernel)",
   "language": "python",
   "name": "python3"
  },
  "language_info": {
   "codemirror_mode": {
    "name": "ipython",
    "version": 3
   },
   "file_extension": ".py",
   "mimetype": "text/x-python",
   "name": "python",
   "nbconvert_exporter": "python",
   "pygments_lexer": "ipython3",
   "version": "3.10.6"
  }
 },
 "nbformat": 4,
 "nbformat_minor": 5
}
